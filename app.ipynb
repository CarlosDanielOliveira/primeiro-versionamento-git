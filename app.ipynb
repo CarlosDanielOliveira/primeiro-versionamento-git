{
 "cells": [
  {
   "cell_type": "code",
   "execution_count": null,
   "metadata": {},
   "outputs": [],
   "source": [
    "for i in range (0,10):   '''  (0,10, -1)   '''  #Faria de forma decrescente, por conta do -1 que chamamos de passo.\n",
    "    print ('Oi')\n",
    "print('Fim')"
   ]
  },
  {
   "cell_type": "code",
   "execution_count": null,
   "metadata": {},
   "outputs": [],
   "source": [
    "i = int(input('Inicio: '))\n",
    "f = int(input('Fim: ')) \n",
    "p= int(input('Passo: '))\n",
    "\n",
    "\n",
    "for c in range (i, f+1, p):\n",
    "    print (c)\n",
    "print ('FIM')\n"
   ]
  },
  {
   "cell_type": "code",
   "execution_count": null,
   "metadata": {},
   "outputs": [],
   "source": [
    "s=0  #valor que iniciará \n",
    "for x in range (0,5):\n",
    "    n = int(input('Número:'))\n",
    "    s = s + n  # PODERIA SER   ( S += N )\n",
    "print(s)\n"
   ]
  },
  {
   "cell_type": "markdown",
   "metadata": {},
   "source": [
    "DESAFIOS (GUANABARA) - CURSO DE PYTHON #13 ESTRUTURA DE REPETIÇÕES (YOUTUBE)"
   ]
  },
  {
   "cell_type": "code",
   "execution_count": null,
   "metadata": {},
   "outputs": [],
   "source": [
    "from time import sleep\n",
    "\n",
    "for contagem in range (10,0,-1):\n",
    "    sleep(1)\n",
    "    print(contagem)\n",
    "print('Kabuuuummuuumm')\n"
   ]
  },
  {
   "cell_type": "code",
   "execution_count": null,
   "metadata": {},
   "outputs": [],
   "source": [
    "\n",
    "for pares in range (0,50+1):\n",
    "    if pares %2 ==0:\n",
    "        cont = cont +1\n",
    "        print(f'Dentro do range escolhido, esse valor é par: {pares}')\n",
    "print('Finalizado!')\n",
    "\n"
   ]
  },
  {
   "cell_type": "code",
   "execution_count": null,
   "metadata": {},
   "outputs": [],
   "source": [
    "result = []\n",
    "for imp in range (1,500):\n",
    "    if imp %2 != 0 and imp %3 == 0:\n",
    "        result.append(imp)\n",
    "x = sum(result)\n",
    "print(f'O valor da soma dos números impares multiplos de 3 é: {x}')\n",
    "        "
   ]
  },
  {
   "cell_type": "markdown",
   "metadata": {},
   "source": [
    "TABUADA COM FOR "
   ]
  },
  {
   "cell_type": "code",
   "execution_count": null,
   "metadata": {},
   "outputs": [],
   "source": [
    "user = int(input('Número:'))\n",
    "variavel=0\n",
    "for tabuada in range (0,10+1):\n",
    "    calculo = (user * variavel)\n",
    "    print(f'{user} * {variavel} = {calculo}')\n",
    "    variavel = variavel+1\n",
    "    \n",
    "\n",
    "\n",
    "\n",
    "    "
   ]
  },
  {
   "cell_type": "markdown",
   "metadata": {},
   "source": [
    "LEIA 6 NÚMEROS, FILTRE E SOMA APENAS OS PARES. Descarte os impares. "
   ]
  },
  {
   "cell_type": "code",
   "execution_count": null,
   "metadata": {},
   "outputs": [],
   "source": [
    "resu_par = []\n",
    "for i in range (0,6+1):\n",
    "    user = int(input('Digite 6 números.'))\n",
    "    if user % 2 == 0:\n",
    "        filtro_valor = user \n",
    "        resu_par.append(filtro_valor)\n",
    "    else:\n",
    "        ('Descartei todos os impares')\n",
    "print(f'A soma dos valores pares digitados é: {sum(resu_par)}')\n",
    "    \n"
   ]
  },
  {
   "cell_type": "code",
   "execution_count": null,
   "metadata": {},
   "outputs": [],
   "source": []
  }
 ],
 "metadata": {
  "kernelspec": {
   "display_name": "Python 3",
   "language": "python",
   "name": "python3"
  },
  "language_info": {
   "codemirror_mode": {
    "name": "ipython",
    "version": 3
   },
   "file_extension": ".py",
   "mimetype": "text/x-python",
   "name": "python",
   "nbconvert_exporter": "python",
   "pygments_lexer": "ipython3",
   "version": "3.11.9"
  }
 },
 "nbformat": 4,
 "nbformat_minor": 2
}
